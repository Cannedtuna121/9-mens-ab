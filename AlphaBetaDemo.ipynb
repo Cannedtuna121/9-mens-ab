{
 "cells": [
  {
   "cell_type": "markdown",
   "metadata": {},
   "source": [
    "# AlphaBeta Demo\n",
    "\n",
    "This notebook contains a few demos of the AlphaBeta Algorithm on TicTacToe and NineMensMorris. "
   ]
  },
  {
   "cell_type": "markdown",
   "metadata": {},
   "source": [
    "## TicTacToe"
   ]
  },
  {
   "cell_type": "markdown",
   "metadata": {},
   "source": [
    "### Open Wins Strategy"
   ]
  },
  {
   "cell_type": "code",
   "execution_count": 1,
   "metadata": {},
   "outputs": [
    {
     "name": "stderr",
     "output_type": "stream",
     "text": [
      "100%|██████████| 1000/1000 [00:03<00:00, 313.02it/s]"
     ]
    },
    {
     "name": "stdout",
     "output_type": "stream",
     "text": [
      "\n",
      "Win Rate: 0.736\n"
     ]
    },
    {
     "name": "stderr",
     "output_type": "stream",
     "text": [
      "\n"
     ]
    }
   ],
   "source": [
    "from games import TTT as TicTacToe\n",
    "from agents import AlphaBetaAgent, RandomAgent\n",
    "from tqdm import trange\n",
    "import numpy as np\n",
    "\n",
    "episodes = 1000\n",
    "wins = 0\n",
    "\n",
    "for i in trange(episodes):\n",
    "\n",
    "    game = TicTacToe()\n",
    "    smartAgent = np.random.choice([-1, 1])\n",
    "    if smartAgent == 1:\n",
    "        agent1 = AlphaBetaAgent(upper_lim=100, lower_lim=-100, max_depth=3,\n",
    "                                max_player='x', strategy='open_wins', weights=[])\n",
    "        agent2 = RandomAgent()\n",
    "    else:\n",
    "        agent1 = RandomAgent()\n",
    "        agent2 = AlphaBetaAgent(upper_lim=100, lower_lim=-100, max_depth=3,\n",
    "                                max_player='x', strategy='open_wins', weights=[])\n",
    "\n",
    "    done = False\n",
    "    a1_turn = True\n",
    "    while not game.is_terminal():\n",
    "        game, reward = agent1.find_opt_move(game, game.p1) if a1_turn else agent2.find_opt_move(game, game.p2)\n",
    "        a1_turn = not a1_turn\n",
    "    \n",
    "    wins += 1 if smartAgent*game.eval(1, 1) == 100 else 0\n",
    "\n",
    "print(\"\\nWin Rate:\", wins/episodes)"
   ]
  },
  {
   "cell_type": "markdown",
   "metadata": {},
   "source": [
    "### Weighted Open Wins Strategy"
   ]
  },
  {
   "cell_type": "code",
   "execution_count": 3,
   "metadata": {},
   "outputs": [
    {
     "name": "stderr",
     "output_type": "stream",
     "text": [
      "100%|██████████| 1000/1000 [00:03<00:00, 307.66it/s]"
     ]
    },
    {
     "name": "stdout",
     "output_type": "stream",
     "text": [
      "\n",
      "Win Rate: 0.726\n"
     ]
    },
    {
     "name": "stderr",
     "output_type": "stream",
     "text": [
      "\n"
     ]
    }
   ],
   "source": [
    "from games import TTT as TicTacToe\n",
    "from agents import AlphaBetaAgent, RandomAgent\n",
    "from tqdm import trange\n",
    "import numpy as np\n",
    "\n",
    "episodes = 1000\n",
    "wins = 0\n",
    "\n",
    "for i in trange(episodes):\n",
    "\n",
    "    game = TicTacToe()\n",
    "    smartAgent = np.random.choice([-1, 1])\n",
    "    if smartAgent == 1:\n",
    "        agent1 = AlphaBetaAgent(upper_lim=100, lower_lim=-100, max_depth=3,\n",
    "                                max_player='x', strategy='weighted_open_wins', \n",
    "                                weights=[1,1,1,1,1,1,1,1])\n",
    "        agent2 = RandomAgent()\n",
    "    else:\n",
    "        agent1 = RandomAgent()\n",
    "        agent2 = AlphaBetaAgent(upper_lim=100, lower_lim=-100, max_depth=3,\n",
    "                                max_player='x', strategy='weighted_open_wins', \n",
    "                                weights=[1,1,1,1,1,1,1,1])\n",
    "\n",
    "    done = False\n",
    "    a1_turn = True\n",
    "    while not game.is_terminal():\n",
    "        game, reward = agent1.find_opt_move(game, game.p1) if a1_turn else agent2.find_opt_move(game, game.p2)\n",
    "        a1_turn = not a1_turn\n",
    "    \n",
    "    wins += 1 if smartAgent*game.eval(1, 1) == 100 else 0\n",
    "\n",
    "print(\"\\nWin Rate:\", wins/episodes)"
   ]
  },
  {
   "cell_type": "markdown",
   "metadata": {},
   "source": [
    "### Captured Strategy"
   ]
  },
  {
   "cell_type": "code",
   "execution_count": 5,
   "metadata": {},
   "outputs": [
    {
     "name": "stderr",
     "output_type": "stream",
     "text": [
      "100%|██████████| 1000/1000 [00:03<00:00, 309.47it/s]"
     ]
    },
    {
     "name": "stdout",
     "output_type": "stream",
     "text": [
      "\n",
      "Win Rate: 0.646\n"
     ]
    },
    {
     "name": "stderr",
     "output_type": "stream",
     "text": [
      "\n"
     ]
    }
   ],
   "source": [
    "from games import TTT as TicTacToe\n",
    "from agents import AlphaBetaAgent, RandomAgent\n",
    "from tqdm import trange\n",
    "import numpy as np\n",
    "\n",
    "episodes = 1000\n",
    "wins = 0\n",
    "\n",
    "for i in trange(episodes):\n",
    "\n",
    "    game = TicTacToe()\n",
    "    smartAgent = np.random.choice([-1, 1])\n",
    "    if smartAgent == 1:\n",
    "        agent1 = AlphaBetaAgent(upper_lim=100, lower_lim=-100, max_depth=3,\n",
    "                                max_player='x', strategy='captured', weights=[])\n",
    "        agent2 = RandomAgent()\n",
    "    else:\n",
    "        agent1 = RandomAgent()\n",
    "        agent2 = AlphaBetaAgent(upper_lim=100, lower_lim=-100, max_depth=3,\n",
    "                                max_player='x', strategy='captured', weights=[])\n",
    "\n",
    "    done = False\n",
    "    a1_turn = True\n",
    "    while not game.is_terminal():\n",
    "        game, reward = agent1.find_opt_move(game, game.p1) if a1_turn else agent2.find_opt_move(game, game.p2)\n",
    "        a1_turn = not a1_turn\n",
    "    \n",
    "    wins += 1 if smartAgent*game.eval(1, 1) == 100 else 0\n",
    "\n",
    "print(\"\\nWin Rate:\", wins/episodes)"
   ]
  },
  {
   "cell_type": "markdown",
   "metadata": {},
   "source": [
    "### Weighted Captured Strategy"
   ]
  },
  {
   "cell_type": "code",
   "execution_count": 6,
   "metadata": {},
   "outputs": [
    {
     "name": "stderr",
     "output_type": "stream",
     "text": [
      "100%|██████████| 1000/1000 [00:03<00:00, 296.85it/s]"
     ]
    },
    {
     "name": "stdout",
     "output_type": "stream",
     "text": [
      "\n",
      "Win Rate: 0.638\n"
     ]
    },
    {
     "name": "stderr",
     "output_type": "stream",
     "text": [
      "\n"
     ]
    }
   ],
   "source": [
    "from games import TTT as TicTacToe\n",
    "from agents import AlphaBetaAgent, RandomAgent\n",
    "from tqdm import trange\n",
    "import numpy as np\n",
    "\n",
    "episodes = 1000\n",
    "wins = 0\n",
    "\n",
    "for i in trange(episodes):\n",
    "\n",
    "    game = TicTacToe()\n",
    "    smartAgent = np.random.choice([-1, 1])\n",
    "    if smartAgent == 1:\n",
    "        agent1 = AlphaBetaAgent(upper_lim=100, lower_lim=-100, max_depth=3,\n",
    "                                max_player='x', strategy='weighted_captured', \n",
    "                                weights=[1,1,1,1,1,1,1,1,1])\n",
    "        agent2 = RandomAgent()\n",
    "    else:\n",
    "        agent1 = RandomAgent()\n",
    "        agent2 = AlphaBetaAgent(upper_lim=100, lower_lim=-100, max_depth=3,\n",
    "                                max_player='x', strategy='weighted_captured', \n",
    "                                weights=[1,1,1,1,1,1,1,1,1])\n",
    "\n",
    "    done = False\n",
    "    a1_turn = True\n",
    "    while not game.is_terminal():\n",
    "        game, reward = agent1.find_opt_move(game, game.p1) if a1_turn else agent2.find_opt_move(game, game.p2)\n",
    "        a1_turn = not a1_turn\n",
    "    \n",
    "    wins += 1 if smartAgent*game.eval(1, 1) == 100 else 0\n",
    "\n",
    "print(\"\\nWin Rate:\", wins/episodes)"
   ]
  },
  {
   "cell_type": "markdown",
   "metadata": {},
   "source": [
    "## 9 Mens Morris"
   ]
  },
  {
   "cell_type": "code",
   "execution_count": 12,
   "metadata": {},
   "outputs": [
    {
     "name": "stderr",
     "output_type": "stream",
     "text": [
      " 62%|██████▏   | 62/100 [00:07<00:04,  8.48it/s]\n",
      " 58%|█████▊    | 58/100 [00:11<00:08,  4.92it/s]\n",
      " 60%|██████    | 60/100 [00:11<00:07,  5.42it/s]\n",
      " 91%|█████████ | 91/100 [00:13<00:01,  6.95it/s]\n",
      " 55%|█████▌    | 55/100 [00:11<00:09,  4.81it/s]\n",
      " 63%|██████▎   | 63/100 [00:11<00:06,  5.50it/s]\n",
      " 38%|███▊      | 38/100 [00:06<00:11,  5.45it/s]\n",
      "100%|██████████| 100/100 [02:17<00:00,  1.38s/it]\n",
      "100%|██████████| 100/100 [01:10<00:00,  1.42it/s]\n",
      " 52%|█████▏    | 52/100 [00:09<00:09,  5.20it/s]\n",
      " 99%|█████████▉| 99/100 [00:18<00:00,  5.23it/s]\n",
      " 44%|████▍     | 44/100 [00:08<00:10,  5.28it/s]\n",
      " 64%|██████▍   | 64/100 [00:10<00:05,  6.35it/s]\n",
      " 50%|█████     | 50/100 [00:08<00:08,  5.56it/s]\n",
      " 48%|████▊     | 48/100 [00:08<00:08,  5.90it/s]"
     ]
    },
    {
     "name": "stdout",
     "output_type": "stream",
     "text": [
      "\n",
      "Win Rate: 0.8666666666666667\n"
     ]
    },
    {
     "name": "stderr",
     "output_type": "stream",
     "text": [
      "\n"
     ]
    }
   ],
   "source": [
    "from agents import AlphaBetaAgent, RandomAgent\n",
    "from ninemensmorris import NineMensMorris\n",
    "from tqdm import trange\n",
    "import numpy as np\n",
    "\n",
    "episodes = 15\n",
    "wins = 0\n",
    "max_iter = 100\n",
    "\n",
    "for i in range(episodes):\n",
    "\n",
    "    game = NineMensMorris()\n",
    "    smartAgent = np.random.choice([-1, 1])\n",
    "    if smartAgent == 1:\n",
    "        agent1 = AlphaBetaAgent(upper_lim=1_000_000_000, lower_lim=-1_000_000_000, max_depth=3,\n",
    "                                max_player=1, strategy=None, weights=[[1,1,1,1],[1,1,1,1,1,1,1,1],[1,1,1,1]])\n",
    "        agent2 = RandomAgent()\n",
    "    else:\n",
    "        agent1 = RandomAgent()\n",
    "        agent2 = AlphaBetaAgent(upper_lim=1_000_000_000, lower_lim=-1_000_000_000, max_depth=3,\n",
    "                                max_player=1, strategy=None, weights=[[1,1,1,1],[1,1,1,1,1,1,1,1],[1,1,1,1]])\n",
    "\n",
    "    done = False\n",
    "    a1_turn = True\n",
    "    #iteration = 0\n",
    "    for _ in trange(max_iter):\n",
    "        game, reward = agent1.find_opt_move(game, 1) if a1_turn else agent2.find_opt_move(game, 2)\n",
    "        a1_turn = not a1_turn\n",
    "        if (game.isWin(1) or game.isWin(2)): break\n",
    "        # iteration += 1\n",
    "\n",
    "    wins += 1 if smartAgent*game.eval(1, 1) == 1_000_000_000 else 0\n",
    "\n",
    "print(\"\\nWin Rate:\", wins/episodes)"
   ]
  },
  {
   "cell_type": "code",
   "execution_count": null,
   "metadata": {},
   "outputs": [],
   "source": []
  }
 ],
 "metadata": {
  "kernelspec": {
   "display_name": "Python 3",
   "language": "python",
   "name": "python3"
  },
  "language_info": {
   "codemirror_mode": {
    "name": "ipython",
    "version": 3
   },
   "file_extension": ".py",
   "mimetype": "text/x-python",
   "name": "python",
   "nbconvert_exporter": "python",
   "pygments_lexer": "ipython3",
   "version": "3.8.5"
  }
 },
 "nbformat": 4,
 "nbformat_minor": 4
}
