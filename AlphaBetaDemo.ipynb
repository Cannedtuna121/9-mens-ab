{
 "cells": [
  {
   "cell_type": "code",
   "execution_count": 1,
   "metadata": {},
   "outputs": [],
   "source": [
    "class TicTacToe:\n",
    "\n",
    "    def __init__(self, state='.........', p1='x', p2='o'):\n",
    "        self.state = state\n",
    "        self.p1 = p1\n",
    "        self.p2 = p2\n",
    "\n",
    "        self.terminals = [(0, 1, 2), (0, 3, 6), (0, 4, 8), \n",
    "                          (1, 4, 7), (2, 4, 6), (2, 5, 8), \n",
    "                          (3, 4, 5), (6, 7, 8)]\n",
    "        self.get_opp = lambda p: p1 if p==p2 else p2\n",
    "    \n",
    "    def get_valid_moves(self, state, player = 'x'):\n",
    "        new_states = []\n",
    "        for i in range(len(state)):\n",
    "            if state[i] == \".\":\n",
    "                new_states.append(state[:i] + player + state[i+1:])\n",
    "        return new_states\n",
    "\n",
    "    def eval(self, state):\n",
    "        player_set = set([self.p1])\n",
    "        opp_set = set([self.p2])\n",
    "        open_wins = 0\n",
    "        for terminal in self.terminals:\n",
    "            elements = set([state[i] for i in terminal])\n",
    "            if elements == player_set: return 100\n",
    "            if elements == opp_set: return -100\n",
    "            if self.p2 not in elements: open_wins += 1\n",
    "            elif self.p1 not in elements: open_wins -= 1\n",
    "        return open_wins\n",
    "    \n",
    "    def is_terminal(self):\n",
    "        return self.eval(self.state) in [100, -100] or '.' not in self.state\n",
    "        \n",
    "    def pretty_print(self, state):\n",
    "        return state[:3] + '\\n' + state[3:6] + '\\n' + state[6:]"
   ]
  },
  {
   "cell_type": "code",
   "execution_count": 2,
   "metadata": {},
   "outputs": [
    {
     "name": "stderr",
     "output_type": "stream",
     "text": [
      "100%|██████████| 1000/1000 [00:02<00:00, 434.89it/s]"
     ]
    },
    {
     "name": "stdout",
     "output_type": "stream",
     "text": [
      "\n",
      "Win Rate: 0.751\n"
     ]
    },
    {
     "name": "stderr",
     "output_type": "stream",
     "text": [
      "\n"
     ]
    }
   ],
   "source": [
    "from agents import AlphaBetaAgent, RandomAgent\n",
    "from tqdm import trange\n",
    "import numpy as np\n",
    "\n",
    "episodes = 1000\n",
    "wins = 0\n",
    "\n",
    "for i in trange(episodes):\n",
    "\n",
    "    game = TicTacToe()\n",
    "    smartAgent = np.random.choice([-1, 1])\n",
    "    if smartAgent == 1:\n",
    "        agent1 = AlphaBetaAgent(game)\n",
    "        agent2 = RandomAgent(game)\n",
    "    else:\n",
    "        agent1 = RandomAgent(game)\n",
    "        agent2 = AlphaBetaAgent(game)\n",
    "\n",
    "    done = False\n",
    "    a1_turn = True\n",
    "    while not game.is_terminal():\n",
    "        state, reward = agent1.find_opt_move(game.p1) if a1_turn else agent2.find_opt_move(game.p2)\n",
    "        game.state = state\n",
    "        a1_turn = not a1_turn\n",
    "\n",
    "    wins += 1 if smartAgent*game.eval(game.state) == 100 else 0\n",
    "\n",
    "print(\"\\nWin Rate:\", wins/episodes)"
   ]
  }
 ],
 "metadata": {
  "language_info": {
   "codemirror_mode": {
    "name": "ipython",
    "version": 3
   },
   "file_extension": ".py",
   "mimetype": "text/x-python",
   "name": "python",
   "nbconvert_exporter": "python",
   "pygments_lexer": "ipython3",
   "version": "3.8.5"
  }
 },
 "nbformat": 4,
 "nbformat_minor": 4
}
