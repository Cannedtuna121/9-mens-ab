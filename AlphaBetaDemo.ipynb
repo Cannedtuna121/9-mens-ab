{
 "cells": [
  {
   "cell_type": "code",
   "execution_count": 25,
   "metadata": {},
   "outputs": [],
   "source": [
    "class TicTacToe:\n",
    "\n",
    "    def __init__(self, state='.........', p1='x', p2='o'):\n",
    "        self.state = state\n",
    "        self.p1 = p1\n",
    "        self.p2 = p2\n",
    "\n",
    "        self.terminals = [(0, 1, 2), (0, 3, 6), (0, 4, 8), \n",
    "                          (1, 4, 7), (2, 4, 6), (2, 5, 8), \n",
    "                          (3, 4, 5), (6, 7, 8)]\n",
    "        self.get_opp = lambda p: p1 if p==p2 else p2\n",
    "    \n",
    "    def getValidMoves(self, player = 'x'):\n",
    "        new_states = []\n",
    "        for i in range(len(self.state)):\n",
    "            if self.state[i] == \".\":\n",
    "                new_states.append(TicTacToe(\n",
    "                    self.state[:i] + player + self.state[i+1:], \n",
    "                    self.p1, self.p2))\n",
    "        return new_states\n",
    "\n",
    "    def eval(self, player=None, max_player=None):\n",
    "        player_set = set([self.p1])\n",
    "        opp_set = set([self.p2])\n",
    "        open_wins = 0\n",
    "        for terminal in self.terminals:\n",
    "            elements = set([self.state[i] for i in terminal])\n",
    "            if elements == player_set: return 100\n",
    "            if elements == opp_set: return -100\n",
    "            if self.p2 not in elements: open_wins += 1\n",
    "            elif self.p1 not in elements: open_wins -= 1\n",
    "        return open_wins\n",
    "    \n",
    "    def is_terminal(self):\n",
    "        return self.eval(self.state) in [100, -100] or '.' not in self.state\n",
    "        \n",
    "    def pretty_print(self, state):\n",
    "        return state[:3] + '\\n' + state[3:6] + '\\n' + state[6:]"
   ]
  },
  {
   "cell_type": "code",
   "execution_count": 29,
   "metadata": {},
   "outputs": [
    {
     "name": "stderr",
     "output_type": "stream",
     "text": [
      "100%|██████████| 1000/1000 [00:03<00:00, 297.76it/s]"
     ]
    },
    {
     "name": "stdout",
     "output_type": "stream",
     "text": [
      "\n",
      "Win Rate: 0.761\n"
     ]
    },
    {
     "name": "stderr",
     "output_type": "stream",
     "text": [
      "\n"
     ]
    }
   ],
   "source": [
    "from agents import AlphaBetaAgent, RandomAgent\n",
    "from tqdm import trange\n",
    "import numpy as np\n",
    "\n",
    "episodes = 1000\n",
    "wins = 0\n",
    "\n",
    "for i in trange(episodes):\n",
    "\n",
    "    game = TicTacToe()\n",
    "    smartAgent = np.random.choice([-1, 1])\n",
    "    if smartAgent == 1:\n",
    "        agent1 = AlphaBetaAgent(max_player='x')\n",
    "        agent2 = RandomAgent()\n",
    "    else:\n",
    "        agent1 = RandomAgent()\n",
    "        agent2 = AlphaBetaAgent(max_player='x')\n",
    "\n",
    "    done = False\n",
    "    a1_turn = True\n",
    "    while not game.is_terminal():\n",
    "        game, reward = agent1.find_opt_move(game, game.p1) if a1_turn else agent2.find_opt_move(game, game.p2)\n",
    "        a1_turn = not a1_turn\n",
    "    \n",
    "    wins += 1 if smartAgent*game.eval(1, 1) == 100 else 0\n",
    "\n",
    "print(\"\\nWin Rate:\", wins/episodes)"
   ]
  },
  {
   "cell_type": "code",
   "execution_count": 13,
   "metadata": {},
   "outputs": [
    {
     "name": "stderr",
     "output_type": "stream",
     "text": [
      "100%|██████████| 5/5 [01:12<00:00, 14.45s/it]"
     ]
    },
    {
     "name": "stdout",
     "output_type": "stream",
     "text": [
      "\n",
      "Win Rate: 1.0\n"
     ]
    },
    {
     "name": "stderr",
     "output_type": "stream",
     "text": [
      "\n"
     ]
    }
   ],
   "source": [
    "import importlib\n",
    "import agents\n",
    "import ninemensmorris\n",
    "importlib.reload(agents)\n",
    "importlib.reload(ninemensmorris)\n",
    "from agents import AlphaBetaAgent, RandomAgent\n",
    "from ninemensmorris import NineMensMorris\n",
    "from tqdm import trange\n",
    "import numpy as np\n",
    "\n",
    "episodes = 5\n",
    "wins = 0\n",
    "\n",
    "for i in trange(episodes):\n",
    "\n",
    "    game = NineMensMorris()\n",
    "    smartAgent = np.random.choice([-1, 1])\n",
    "    if smartAgent == 1:\n",
    "        agent1 = AlphaBetaAgent(upper_lim=1_000_000_000, lower_lim=-1_000_000_000, max_depth=3)\n",
    "        agent2 = RandomAgent()\n",
    "    else:\n",
    "        agent1 = RandomAgent()\n",
    "        agent2 = AlphaBetaAgent(upper_lim=1_000_000_000, lower_lim=-1_000_000_000, max_depth=3)\n",
    "\n",
    "    done = False\n",
    "    a1_turn = True\n",
    "    while not (game.isWin(1) or game.isWin(2)):\n",
    "        game, reward = agent1.find_opt_move(game, 1) if a1_turn else agent2.find_opt_move(game, 2)\n",
    "        a1_turn = not a1_turn\n",
    "\n",
    "    wins += 1 if smartAgent*game.eval(1, 1) == 1_000_000_000 else 0\n",
    "\n",
    "print(\"\\nWin Rate:\", wins/episodes)"
   ]
  }
 ],
 "metadata": {
  "kernelspec": {
   "display_name": "Python 3",
   "language": "python",
   "name": "python3"
  },
  "language_info": {
   "codemirror_mode": {
    "name": "ipython",
    "version": 3
   },
   "file_extension": ".py",
   "mimetype": "text/x-python",
   "name": "python",
   "nbconvert_exporter": "python",
   "pygments_lexer": "ipython3",
   "version": "3.8.5"
  }
 },
 "nbformat": 4,
 "nbformat_minor": 4
}
